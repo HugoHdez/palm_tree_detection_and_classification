{
 "cells": [
  {
   "cell_type": "code",
   "execution_count": 1,
   "id": "d4dda850",
   "metadata": {},
   "outputs": [
    {
     "name": "stdout",
     "output_type": "stream",
     "text": [
      "GPUs disponibles: 1\n",
      "GPU 0: NVIDIA GeForce RTX 3070 Laptop GPU\n"
     ]
    }
   ],
   "source": [
    "import torch\n",
    "\n",
    "print(\"GPUs disponibles:\", torch.cuda.device_count())\n",
    "for i in range(torch.cuda.device_count()):\n",
    "    print(f\"GPU {i}: {torch.cuda.get_device_name(i)}\")"
   ]
  },
  {
   "cell_type": "markdown",
   "id": "5bb1e6fb",
   "metadata": {},
   "source": [
    "Entrenamiento y validación para el modelo de YOLO detector"
   ]
  },
  {
   "cell_type": "code",
   "execution_count": null,
   "id": "7af0fa09",
   "metadata": {},
   "outputs": [],
   "source": [
    "from ultralytics import YOLO\n",
    "\n",
    "model = YOLO(\"./yolo_models/yolo11m.pt\")  # Cargar el modelo YOLOv11m preentrenado\n",
    "\n",
    "results = model.train(data=r\"F:\\Universidad\\Curso 2024-25\\Segundo Semestre\\TFG\\Desarrollo\\dataset\\fixed_normalization\\data.yaml\",\n",
    "                        task = \"detect\", epochs=100, imgsz=736,\n",
    "                        batch=-1, device=0, patience=10,\n",
    "                        name=\"train_yolov11m\",\n",
    "                        pretrained=True, project=r\".\\detections\\yolov11m\\bbox_45\")"
   ]
  },
  {
   "cell_type": "code",
   "execution_count": null,
   "id": "509b2abe",
   "metadata": {},
   "outputs": [],
   "source": [
    "from ultralytics import YOLO\n",
    "model = YOLO(r'\\detections\\yolov11m\\bbox_45\\yolo_for_detections\\weights\\best.pt')  # Modelo entrenado en el paso anterior\n",
    "\n",
    "\n",
    "# Validar el modelo\n",
    "metrics = model.val(data=r'F:\\Universidad\\Curso 2024-25\\Segundo Semestre\\TFG\\Desarrollo\\dataset\\fixed_normalization\\data.yaml', split=\"val\", plots=True, single_cls=True, augment=True, name = \"val_yolov11m\", project=r\"..\\detections\\yolov11m\\bbox_45\", conf=0.3, imgsz=736, iou=0.5)  # no arguments needed, dataset and settings remembered\n",
    "metrics.box.map  # map50-95\n",
    "metrics.box.map50  # map50\n",
    "metrics.box.map75  # map75\n",
    "metrics.box.maps  # Lista que contiene map50-95 de cada categoría"
   ]
  }
 ],
 "metadata": {
  "kernelspec": {
   "display_name": "TFG_yolov11",
   "language": "python",
   "name": "python3"
  },
  "language_info": {
   "codemirror_mode": {
    "name": "ipython",
    "version": 3
   },
   "file_extension": ".py",
   "mimetype": "text/x-python",
   "name": "python",
   "nbconvert_exporter": "python",
   "pygments_lexer": "ipython3",
   "version": "3.11.11"
  }
 },
 "nbformat": 4,
 "nbformat_minor": 5
}
